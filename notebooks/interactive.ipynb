{
 "cells": [
  {
   "cell_type": "markdown",
   "metadata": {},
   "source": [
    "# Interactive Code Annotation\n",
    "Because of where a `lintotype` client sits, right in the kernel, it can do some special things. For kernels that have implemented [Jupyter Widgets](https://jupyter.org/widgets), we can show rich interactive displays of each annotators configuration.\n",
    "\n",
    "The reference example, `ipylintotype` shows this with `ipywidgets`:"
   ]
  },
  {
   "cell_type": "code",
   "execution_count": null,
   "metadata": {},
   "outputs": [],
   "source": [
    "from ipylintotype.widgets import show_formatter\n",
    "from ipylintotype import get_ipylintotype"
   ]
  },
  {
   "cell_type": "code",
   "execution_count": null,
   "metadata": {},
   "outputs": [],
   "source": [
    "%reload_ext ipylintotype"
   ]
  },
  {
   "cell_type": "markdown",
   "metadata": {},
   "source": [
    "Calling `show_formatter` presents the current `AnnotationFormatter`, which knows how to do all of the work against various `MIME` types."
   ]
  },
  {
   "cell_type": "code",
   "execution_count": null,
   "metadata": {},
   "outputs": [],
   "source": [
    "show_formatter()"
   ]
  },
  {
   "cell_type": "markdown",
   "metadata": {},
   "source": [
    "You can now toggle your varius tools on and off, and re-configure them at will. \n",
    "\n",
    "By default, you'll see a lot of false positives. Try changing:\n",
    "- `pylint` to `--disable=trailing-newlines,invalid-name`, \n",
    "- `mypy` by adding `--ignore-missing-imports`\n",
    "\n",
    "...which should clear up some warnings on this notebook."
   ]
  }
 ],
 "metadata": {
  "kernelspec": {
   "display_name": "Python 3",
   "language": "python",
   "name": "python3"
  },
  "language_info": {
   "codemirror_mode": {
    "name": "ipython",
    "version": 3
   },
   "file_extension": ".py",
   "mimetype": "text/x-python",
   "name": "python",
   "nbconvert_exporter": "python",
   "pygments_lexer": "ipython3",
   "version": "3.7.1"
  }
 },
 "nbformat": 4,
 "nbformat_minor": 2
}
