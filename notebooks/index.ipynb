{
 "cells": [
  {
   "cell_type": "markdown",
   "metadata": {},
   "source": [
    "# `lintotype`\n",
    "\n",
    "The prototype, `ipylintotype` can be enabled as an IPython extension:"
   ]
  },
  {
   "cell_type": "code",
   "execution_count": 1,
   "metadata": {},
   "outputs": [],
   "source": [
    "from IPython.display import Markdown"
   ]
  },
  {
   "cell_type": "code",
   "execution_count": 2,
   "metadata": {},
   "outputs": [],
   "source": [
    "%reload_ext ipylintotype"
   ]
  },
  {
   "cell_type": "markdown",
   "metadata": {},
   "source": [
    "> ALPHA: you have might have to wait a while, and `reload_ext` again to get it working. Working on that."
   ]
  },
  {
   "cell_type": "markdown",
   "metadata": {},
   "source": [
    "Now, whenever CodeMirror _feels_ like you should get linting (i.e. a after second you stop typing), it will ask your IPython kernel to run all configured linters. At present, that list is:"
   ]
  },
  {
   "cell_type": "code",
   "execution_count": 3,
   "metadata": {},
   "outputs": [
    {
     "data": {
      "text/markdown": [
       " > ### mypy\n",
       "    Show type warnings from `mypy` (must be installed in your kernel environment)\n",
       "\n",
       "    You may customize MYPY_ARGS with any option to the `mypy` CLI:\n",
       "\n",
       "        https://mypy.readthedocs.io/en/latest/command_line.html\n",
       "\n",
       "    "
      ],
      "text/plain": [
       "<IPython.core.display.Markdown object>"
      ]
     },
     "metadata": {},
     "output_type": "display_data"
    }
   ],
   "source": [
    "display(*[Markdown(linter.__doc__) for linter in __import__(\"ipylintotype\").linters.LINTERS])"
   ]
  },
  {
   "cell_type": "markdown",
   "metadata": {},
   "source": [
    "> ALPHA: it currently hooks ALL CodeMirror cells, so it will ask your IPython kernel to lint `markdown` and `raw` cell types as well. Working on that.\n",
    "\n",
    "For example, in the cell below add another `1` to line one (but don't run it):"
   ]
  },
  {
   "cell_type": "code",
   "execution_count": null,
   "metadata": {},
   "outputs": [],
   "source": [
    "obviously_a_number =   1111111111111111\n",
    "obviously_a_string = \"Aa\"\n",
    "seriously_not_a_good_idea = obviously_a_number / obviously_a_string"
   ]
  },
  {
   "cell_type": "markdown",
   "metadata": {},
   "source": [
    "And then hover over some `Warnings` in the code cell lines, or in the margin\n",
    "\n",
    "You may also want to try <kbd>SHIFT+L</kbd> to turn on line numbers, which balances the errors, and facilitates discussion."
   ]
  },
  {
   "cell_type": "markdown",
   "metadata": {},
   "source": [
    "## Motivation\n",
    "\n",
    "_Types_ can be a way to tie your computation to your narrative. _Formatters_ can also reduce the visual complexity of reading code. While adoption of the Language Server Protocol will add a whole other level of interoperability, having these tools live _in your kernel_ have benefits from a number of points of view: you usually don't have to start a separate process, and there is likely less language-language impedence.\n",
    "\n"
   ]
  },
  {
   "cell_type": "markdown",
   "metadata": {},
   "source": [
    "## Limitations\n",
    "\n",
    "- just IPython...\n",
    "    - ...but _could_ be implemented in other kernels\n",
    "- just JupyterLab...\n",
    "    - ...but _could_ work in any codemirror-based frontend\n",
    "- just mypy...\n",
    "    - ...but _could_ work for any backend\n",
    "- custom data model\n",
    "    - ...but could work with the Language Server Protocol\n",
    "        - \n",
    "        - [codeAction](https://microsoft.github.io/language-server-protocol/specification#textDocument_codeAction) for formatting\n",
    "- not accessible\n",
    "    - ...need to think real hard about this"
   ]
  },
  {
   "cell_type": "code",
   "execution_count": null,
   "metadata": {},
   "outputs": [],
   "source": []
  }
 ],
 "metadata": {
  "kernelspec": {
   "display_name": "Python 3",
   "language": "python",
   "name": "python3"
  },
  "language_info": {
   "codemirror_mode": {
    "name": "ipython",
    "version": 3
   },
   "file_extension": ".py",
   "mimetype": "text/x-python",
   "name": "python",
   "nbconvert_exporter": "python",
   "pygments_lexer": "ipython3",
   "version": "3.7.1"
  }
 },
 "nbformat": 4,
 "nbformat_minor": 2
}
