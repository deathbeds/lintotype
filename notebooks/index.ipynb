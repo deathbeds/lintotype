{
 "cells": [
  {
   "cell_type": "markdown",
   "metadata": {},
   "source": [
    "# `lintotype`\n",
    "> ## _interactive code annotations for Jupyter_\n",
    "\n",
    "The prototype, `ipylintotype` can be enabled as an IPython extension:"
   ]
  },
  {
   "cell_type": "code",
   "execution_count": null,
   "metadata": {},
   "outputs": [],
   "source": [
    "import ipylintotype\n",
    "%reload_ext ipylintotype"
   ]
  },
  {
   "cell_type": "markdown",
   "metadata": {},
   "source": [
    "Now, whenever CodeMirror _feels_ like you should get annotations (i.e. soon after you stop typing), it will ask your IPython kernel to run all configured annotators. At present, that list is:"
   ]
  },
  {
   "cell_type": "code",
   "execution_count": null,
   "metadata": {},
   "outputs": [],
   "source": [
    "ipylintotype.get_ipylintotype().diagnosers"
   ]
  },
  {
   "cell_type": "markdown",
   "metadata": {},
   "source": [
    "For example, in the cell below add another `1` to line one (but don't run it):"
   ]
  },
  {
   "cell_type": "code",
   "execution_count": null,
   "metadata": {},
   "outputs": [],
   "source": [
    "obviously_a_number = 111111\n",
    "obviously_a_string = \"Aa\"\n",
    "seriously_not_a_good_idea = obviously_a_number / obviously_a_string"
   ]
  },
  {
   "cell_type": "markdown",
   "metadata": {},
   "source": [
    "And then hover over some `Warnings` in the code cell lines, or in the margin\n",
    "\n",
    "You may also want to try <kbd>SHIFT+L</kbd> to turn on line numbers, which balances the errors, and facilitates discussion."
   ]
  },
  {
   "cell_type": "code",
   "execution_count": null,
   "metadata": {},
   "outputs": [],
   "source": [
    "seriously_not_a_good_idea = obviously_a_number * obviously_a_string"
   ]
  },
  {
   "cell_type": "markdown",
   "metadata": {},
   "source": [
    "If you don't like how it works you can change your annotator settings in code, or work with them [interactively](./interactive.ipynb) with Jupyter Widgets."
   ]
  },
  {
   "cell_type": "markdown",
   "metadata": {},
   "source": [
    "## Motivation\n",
    "\n",
    "Lintotype annotators add compact information directly to your code:\n",
    "> - _Type checkers_ tie your computation to your narrative, and encourage disciplined programming\n",
    "> - _Formatters_ reduce visual noise in code that is meant to be read\n",
    "> - _Linters_ help catch bugs sooner\n",
    "> - anything else you can think of!\n",
    "\n",
    "Having these tools live _in your kernel_, you:\n",
    "- don't need to start a separate process\n",
    "- have fewer config files, less language impedence\n",
    "- can use [widgets](./interactive.ipynb)"
   ]
  },
  {
   "cell_type": "markdown",
   "metadata": {},
   "source": [
    "## Limitations\n",
    "\n",
    "- just IPython...\n",
    "    - ...but _could_ be implemented in other kernels\n",
    "- just JupyterLab...\n",
    "    - ...but _could_ work in any codemirror-based frontend\n",
    "- just mypy & pylint & black & flake8 & pyflakes...\n",
    "    - ...but _could_ work for any annotator\n",
    "- only annotates and formats...\n",
    "    - ... but _could_ provide suggestions for renaming and refactoring\n",
    "- custom data model\n",
    "    - ...but mostly [Language Server Protocol](https://microsoft.github.io/language-server-protocol/specification)\n",
    "        - ...but _could also_ be [Web Annotation Data Model](https://www.w3.org/TR/annotation-model/#motivation-and-purpose)\n",
    "- not accessible\n",
    "    - ...need to think real hard about this\n",
    "        - ...answer might be _figure out how to support [CodeMirror 6](https://codemirror.net/6/)_"
   ]
  }
 ],
 "metadata": {
  "kernelspec": {
   "display_name": "Python 3",
   "language": "python",
   "name": "python3"
  },
  "language_info": {
   "codemirror_mode": {
    "name": "ipython",
    "version": 3
   },
   "file_extension": ".py",
   "mimetype": "text/x-python",
   "name": "python",
   "nbconvert_exporter": "python",
   "pygments_lexer": "ipython3",
   "version": "3.7.1"
  }
 },
 "nbformat": 4,
 "nbformat_minor": 2
}
